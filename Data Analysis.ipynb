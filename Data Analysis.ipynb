{
 "cells": [
  {
   "cell_type": "code",
   "execution_count": 1,
   "id": "1177b9a2",
   "metadata": {},
   "outputs": [],
   "source": [
    "import pandas as pd\n",
    "import numpy as np\n",
    "\n",
    "import seaborn as sns\n",
    "import matplotlib.pyplot as plt\n",
    "import plotly.express as pe"
   ]
  },
  {
   "cell_type": "code",
   "execution_count": 2,
   "id": "c3c00157",
   "metadata": {},
   "outputs": [],
   "source": [
    "df = pd.read_csv('clean_df')\n",
    "df.drop(labels=['Unnamed: 0'], axis=1, inplace=True)"
   ]
  },
  {
   "cell_type": "markdown",
   "id": "ff19e1f4",
   "metadata": {},
   "source": [
    "### Data Analysis"
   ]
  },
  {
   "cell_type": "markdown",
   "id": "d5e60cfd",
   "metadata": {},
   "source": [
    "This page will analyze relevant columns and their relationships\n",
    "\n",
    "- Analyze Columns:\n",
    "    - Market/Regular\n",
    "    - Booking ID Date\n",
    "    - Origin Location\n",
    "    - Destination_Location\n",
    "    - Origin/Destination Locations\n",
    "    - Planned compared to Actual ETA\n",
    "    - Ontime\n",
    "    - Delay\n",
    "    - Trip Start/End Date\n",
    "    - Transporation Distance in Kilometers\n",
    "    - Vehicle Type\n",
    "    - Minimum Kilometers to be Covered in a Day\n",
    "    - Material Shipped\n",
    "    - # Days for Trip\n",
    "\n",
    "- Analyze Column Relationships:\n",
    "    - Correlation\n",
    "    - \n",
    "    - \n",
    "    - \n",
    "    - \n",
    "    - "
   ]
  },
  {
   "cell_type": "code",
   "execution_count": 3,
   "id": "56565bec",
   "metadata": {},
   "outputs": [
    {
     "data": {
      "text/plain": [
       "'2020-12-03 13:10:21.000'"
      ]
     },
     "execution_count": 3,
     "metadata": {},
     "output_type": "execute_result"
    }
   ],
   "source": [
    "df['BookingID_Date'].max()"
   ]
  },
  {
   "cell_type": "code",
   "execution_count": 4,
   "id": "02006613",
   "metadata": {},
   "outputs": [
    {
     "name": "stdout",
     "output_type": "stream",
     "text": [
      "<class 'pandas.core.frame.DataFrame'>\n",
      "RangeIndex: 6649 entries, 0 to 6648\n",
      "Data columns (total 22 columns):\n",
      " #   Column                              Non-Null Count  Dtype  \n",
      "---  ------                              --------------  -----  \n",
      " 0   BookingID                           6649 non-null   object \n",
      " 1   Market/Regular                      6649 non-null   object \n",
      " 2   BookingID_Date                      6649 non-null   object \n",
      " 3   Origin_Location                     6649 non-null   object \n",
      " 4   Destination_Location                6649 non-null   object \n",
      " 5   Org_lat_lon                         6649 non-null   object \n",
      " 6   Des_lat_lon                         6649 non-null   object \n",
      " 7   Planned_ETA                         6649 non-null   object \n",
      " 8   actual_eta                          6649 non-null   object \n",
      " 9   ontime                              6649 non-null   int64  \n",
      " 10  delay                               6649 non-null   int64  \n",
      " 11  OriginLocation_Code                 6646 non-null   object \n",
      " 12  DestinationLocation_Code            6625 non-null   object \n",
      " 13  trip_start_date                     6649 non-null   object \n",
      " 14  trip_end_date                       6649 non-null   object \n",
      " 15  TRANSPORTATION_DISTANCE_IN_KM       6649 non-null   float64\n",
      " 16  vehicleType                         5885 non-null   object \n",
      " 17  Minimum_kms_to_be_covered_in_a_day  6649 non-null   float64\n",
      " 18  supplierID                          6649 non-null   object \n",
      " 19  supplierNameCode                    6649 non-null   object \n",
      " 20  Material Shipped                    6649 non-null   object \n",
      " 21  # Days for Trip                     6649 non-null   int64  \n",
      "dtypes: float64(2), int64(3), object(17)\n",
      "memory usage: 1.1+ MB\n"
     ]
    }
   ],
   "source": [
    "df.info()"
   ]
  },
  {
   "cell_type": "code",
   "execution_count": 5,
   "id": "51678f88",
   "metadata": {},
   "outputs": [
    {
     "data": {
      "text/html": [
       "<div>\n",
       "<style scoped>\n",
       "    .dataframe tbody tr th:only-of-type {\n",
       "        vertical-align: middle;\n",
       "    }\n",
       "\n",
       "    .dataframe tbody tr th {\n",
       "        vertical-align: top;\n",
       "    }\n",
       "\n",
       "    .dataframe thead th {\n",
       "        text-align: right;\n",
       "    }\n",
       "</style>\n",
       "<table border=\"1\" class=\"dataframe\">\n",
       "  <thead>\n",
       "    <tr style=\"text-align: right;\">\n",
       "      <th></th>\n",
       "      <th>BookingID</th>\n",
       "      <th>Market/Regular</th>\n",
       "      <th>BookingID_Date</th>\n",
       "      <th>Origin_Location</th>\n",
       "      <th>Destination_Location</th>\n",
       "      <th>Org_lat_lon</th>\n",
       "      <th>Des_lat_lon</th>\n",
       "      <th>Planned_ETA</th>\n",
       "      <th>actual_eta</th>\n",
       "      <th>ontime</th>\n",
       "      <th>...</th>\n",
       "      <th>DestinationLocation_Code</th>\n",
       "      <th>trip_start_date</th>\n",
       "      <th>trip_end_date</th>\n",
       "      <th>TRANSPORTATION_DISTANCE_IN_KM</th>\n",
       "      <th>vehicleType</th>\n",
       "      <th>Minimum_kms_to_be_covered_in_a_day</th>\n",
       "      <th>supplierID</th>\n",
       "      <th>supplierNameCode</th>\n",
       "      <th>Material Shipped</th>\n",
       "      <th># Days for Trip</th>\n",
       "    </tr>\n",
       "  </thead>\n",
       "  <tbody>\n",
       "    <tr>\n",
       "      <th>0</th>\n",
       "      <td>AEIBK2027469</td>\n",
       "      <td>Regular</td>\n",
       "      <td>2020-08-26 12:03:46.000</td>\n",
       "      <td>Shive, Pune, Maharashtra</td>\n",
       "      <td>Pondur, Kanchipuram, Tamil Nadu</td>\n",
       "      <td>18.750621,73.87719</td>\n",
       "      <td>12.930429,79.931163</td>\n",
       "      <td>2020-08-30 16:03:46.000</td>\n",
       "      <td>2020-08-28 12:48:07.380</td>\n",
       "      <td>1</td>\n",
       "      <td>...</td>\n",
       "      <td>CHEORADMRCCB1</td>\n",
       "      <td>2020-08-26 00:00:00.000</td>\n",
       "      <td>2020-08-28 00:00:00.000</td>\n",
       "      <td>1290.0</td>\n",
       "      <td>32 FT Multi-Axle 14MT - HCV</td>\n",
       "      <td>105.0</td>\n",
       "      <td>67876</td>\n",
       "      <td>OMS LOGISTICS PVT LTD</td>\n",
       "      <td>REGULATOR - 12V</td>\n",
       "      <td>2</td>\n",
       "    </tr>\n",
       "    <tr>\n",
       "      <th>1</th>\n",
       "      <td>VCV00014153/082021</td>\n",
       "      <td>Regular</td>\n",
       "      <td>2020-08-27 15:21:48.570</td>\n",
       "      <td>DAIMLER INDIA COMMERCIAL VEHICLES,KANCHIPURAM,...</td>\n",
       "      <td>DAIMLER INDIA COMMERCIAL VEHICLES,KANCHIPURAM,...</td>\n",
       "      <td>12.8390,79.9540</td>\n",
       "      <td>12.8390,79.9540</td>\n",
       "      <td>2020-08-31 19:21:48.570</td>\n",
       "      <td>2020-08-28 12:13:51.543</td>\n",
       "      <td>1</td>\n",
       "      <td>...</td>\n",
       "      <td>CHEMATDMROPA7</td>\n",
       "      <td>2020-08-27 00:00:00.000</td>\n",
       "      <td>2020-08-27 00:00:00.000</td>\n",
       "      <td>29.0</td>\n",
       "      <td>NaN</td>\n",
       "      <td>105.0</td>\n",
       "      <td>VJLEXSHE09</td>\n",
       "      <td>VJ LOGISTICS</td>\n",
       "      <td>VALVE SPRING</td>\n",
       "      <td>0</td>\n",
       "    </tr>\n",
       "    <tr>\n",
       "      <th>2</th>\n",
       "      <td>VCV00014063/082021</td>\n",
       "      <td>Regular</td>\n",
       "      <td>2020-08-27 14:22:17.833</td>\n",
       "      <td>DAIMLER INDIA COMMERCIAL VEHICLES,KANCHIPURAM,...</td>\n",
       "      <td>DAIMLER INDIA COMMERCIAL VEHICLES,KANCHIPURAM,...</td>\n",
       "      <td>12.8390,79.9540</td>\n",
       "      <td>12.8390,79.9540</td>\n",
       "      <td>2020-08-31 18:22:17.833</td>\n",
       "      <td>2020-08-28 11:33:19.043</td>\n",
       "      <td>1</td>\n",
       "      <td>...</td>\n",
       "      <td>CHEMATDMROPA7</td>\n",
       "      <td>2020-08-27 00:00:00.000</td>\n",
       "      <td>2020-08-27 00:00:00.000</td>\n",
       "      <td>21.0</td>\n",
       "      <td>NaN</td>\n",
       "      <td>105.0</td>\n",
       "      <td>VJLEXSHE09</td>\n",
       "      <td>VJ LOGISTICS</td>\n",
       "      <td>VALVE SPRING</td>\n",
       "      <td>0</td>\n",
       "    </tr>\n",
       "    <tr>\n",
       "      <th>3</th>\n",
       "      <td>VCV00014741/082021</td>\n",
       "      <td>Regular</td>\n",
       "      <td>2020-08-28 00:32:20.523</td>\n",
       "      <td>DAIMLER INDIA COMMERCIAL VEHICLES,KANCHIPURAM,...</td>\n",
       "      <td>DAIMLER INDIA COMMERCIAL VEHICLES,KANCHIPURAM,...</td>\n",
       "      <td>12.8390,79.9540</td>\n",
       "      <td>12.8390,79.9540</td>\n",
       "      <td>2020-09-01 04:32:20.523</td>\n",
       "      <td>2020-08-28 11:31:29.780</td>\n",
       "      <td>1</td>\n",
       "      <td>...</td>\n",
       "      <td>CHEMTADMROPA1</td>\n",
       "      <td>2020-08-28 00:00:00.000</td>\n",
       "      <td>2020-08-28 00:00:00.000</td>\n",
       "      <td>20.0</td>\n",
       "      <td>NaN</td>\n",
       "      <td>105.0</td>\n",
       "      <td>NSAEXNAMDZ</td>\n",
       "      <td>NAMAKKAL SRI ANJINAYA TRANSPORT</td>\n",
       "      <td>LU HOOD LOCK / RH</td>\n",
       "      <td>0</td>\n",
       "    </tr>\n",
       "    <tr>\n",
       "      <th>4</th>\n",
       "      <td>AEIBK2027446</td>\n",
       "      <td>Regular</td>\n",
       "      <td>2020-08-26 09:55:08.000</td>\n",
       "      <td>Khorajnanoda, Ahmedabad, Gujarat</td>\n",
       "      <td>Singaperumalkoil, Kanchipuram, Tamil Nadu</td>\n",
       "      <td>22.961777,72.094219</td>\n",
       "      <td>12.786517,79.975221</td>\n",
       "      <td>2020-08-30 13:55:08.000</td>\n",
       "      <td>2020-08-29 07:09:41.173</td>\n",
       "      <td>1</td>\n",
       "      <td>...</td>\n",
       "      <td>CHEMMNFILCCA1</td>\n",
       "      <td>2020-08-26 00:00:00.000</td>\n",
       "      <td>2020-08-28 00:00:00.000</td>\n",
       "      <td>1900.0</td>\n",
       "      <td>32 FT Single-Axle 7MT - HCV</td>\n",
       "      <td>105.0</td>\n",
       "      <td>68005</td>\n",
       "      <td>Sterling Translogistics Private Limited</td>\n",
       "      <td>LU LATCH / PIN</td>\n",
       "      <td>2</td>\n",
       "    </tr>\n",
       "  </tbody>\n",
       "</table>\n",
       "<p>5 rows × 22 columns</p>\n",
       "</div>"
      ],
      "text/plain": [
       "            BookingID Market/Regular            BookingID_Date  \\\n",
       "0        AEIBK2027469         Regular  2020-08-26 12:03:46.000   \n",
       "1  VCV00014153/082021         Regular  2020-08-27 15:21:48.570   \n",
       "2  VCV00014063/082021         Regular  2020-08-27 14:22:17.833   \n",
       "3  VCV00014741/082021         Regular  2020-08-28 00:32:20.523   \n",
       "4        AEIBK2027446         Regular  2020-08-26 09:55:08.000   \n",
       "\n",
       "                                     Origin_Location  \\\n",
       "0                           Shive, Pune, Maharashtra   \n",
       "1  DAIMLER INDIA COMMERCIAL VEHICLES,KANCHIPURAM,...   \n",
       "2  DAIMLER INDIA COMMERCIAL VEHICLES,KANCHIPURAM,...   \n",
       "3  DAIMLER INDIA COMMERCIAL VEHICLES,KANCHIPURAM,...   \n",
       "4                   Khorajnanoda, Ahmedabad, Gujarat   \n",
       "\n",
       "                                Destination_Location          Org_lat_lon  \\\n",
       "0                    Pondur, Kanchipuram, Tamil Nadu   18.750621,73.87719   \n",
       "1  DAIMLER INDIA COMMERCIAL VEHICLES,KANCHIPURAM,...      12.8390,79.9540   \n",
       "2  DAIMLER INDIA COMMERCIAL VEHICLES,KANCHIPURAM,...      12.8390,79.9540   \n",
       "3  DAIMLER INDIA COMMERCIAL VEHICLES,KANCHIPURAM,...      12.8390,79.9540   \n",
       "4          Singaperumalkoil, Kanchipuram, Tamil Nadu  22.961777,72.094219   \n",
       "\n",
       "           Des_lat_lon              Planned_ETA               actual_eta  \\\n",
       "0  12.930429,79.931163  2020-08-30 16:03:46.000  2020-08-28 12:48:07.380   \n",
       "1      12.8390,79.9540  2020-08-31 19:21:48.570  2020-08-28 12:13:51.543   \n",
       "2      12.8390,79.9540  2020-08-31 18:22:17.833  2020-08-28 11:33:19.043   \n",
       "3      12.8390,79.9540  2020-09-01 04:32:20.523  2020-08-28 11:31:29.780   \n",
       "4  12.786517,79.975221  2020-08-30 13:55:08.000  2020-08-29 07:09:41.173   \n",
       "\n",
       "   ontime  ...  DestinationLocation_Code          trip_start_date  \\\n",
       "0       1  ...             CHEORADMRCCB1  2020-08-26 00:00:00.000   \n",
       "1       1  ...             CHEMATDMROPA7  2020-08-27 00:00:00.000   \n",
       "2       1  ...             CHEMATDMROPA7  2020-08-27 00:00:00.000   \n",
       "3       1  ...             CHEMTADMROPA1  2020-08-28 00:00:00.000   \n",
       "4       1  ...             CHEMMNFILCCA1  2020-08-26 00:00:00.000   \n",
       "\n",
       "             trip_end_date TRANSPORTATION_DISTANCE_IN_KM  \\\n",
       "0  2020-08-28 00:00:00.000                        1290.0   \n",
       "1  2020-08-27 00:00:00.000                          29.0   \n",
       "2  2020-08-27 00:00:00.000                          21.0   \n",
       "3  2020-08-28 00:00:00.000                          20.0   \n",
       "4  2020-08-28 00:00:00.000                        1900.0   \n",
       "\n",
       "                   vehicleType  Minimum_kms_to_be_covered_in_a_day  \\\n",
       "0  32 FT Multi-Axle 14MT - HCV                               105.0   \n",
       "1                          NaN                               105.0   \n",
       "2                          NaN                               105.0   \n",
       "3                          NaN                               105.0   \n",
       "4  32 FT Single-Axle 7MT - HCV                               105.0   \n",
       "\n",
       "   supplierID                         supplierNameCode   Material Shipped  \\\n",
       "0       67876                    OMS LOGISTICS PVT LTD    REGULATOR - 12V   \n",
       "1  VJLEXSHE09                             VJ LOGISTICS       VALVE SPRING   \n",
       "2  VJLEXSHE09                             VJ LOGISTICS       VALVE SPRING   \n",
       "3  NSAEXNAMDZ          NAMAKKAL SRI ANJINAYA TRANSPORT  LU HOOD LOCK / RH   \n",
       "4       68005  Sterling Translogistics Private Limited     LU LATCH / PIN   \n",
       "\n",
       "  # Days for Trip  \n",
       "0               2  \n",
       "1               0  \n",
       "2               0  \n",
       "3               0  \n",
       "4               2  \n",
       "\n",
       "[5 rows x 22 columns]"
      ]
     },
     "execution_count": 5,
     "metadata": {},
     "output_type": "execute_result"
    }
   ],
   "source": [
    "df.head()"
   ]
  },
  {
   "cell_type": "code",
   "execution_count": 6,
   "id": "c3d84fc5",
   "metadata": {},
   "outputs": [
    {
     "data": {
      "text/plain": [
       "Index(['BookingID', 'Market/Regular ', 'BookingID_Date', 'Origin_Location',\n",
       "       'Destination_Location', 'Org_lat_lon', 'Des_lat_lon', 'Planned_ETA',\n",
       "       'actual_eta', 'ontime', 'delay', 'OriginLocation_Code',\n",
       "       'DestinationLocation_Code', 'trip_start_date', 'trip_end_date',\n",
       "       'TRANSPORTATION_DISTANCE_IN_KM', 'vehicleType',\n",
       "       'Minimum_kms_to_be_covered_in_a_day', 'supplierID', 'supplierNameCode',\n",
       "       'Material Shipped', '# Days for Trip'],\n",
       "      dtype='object')"
      ]
     },
     "execution_count": 6,
     "metadata": {},
     "output_type": "execute_result"
    }
   ],
   "source": [
    "df.columns"
   ]
  },
  {
   "cell_type": "code",
   "execution_count": 7,
   "id": "882289d1",
   "metadata": {},
   "outputs": [
    {
     "data": {
      "text/plain": [
       "<seaborn.axisgrid.PairGrid at 0x25da68c5670>"
      ]
     },
     "execution_count": 7,
     "metadata": {},
     "output_type": "execute_result"
    },
    {
     "data": {
      "image/png": "[encoded data removed]",
      "text/plain": [
       "<Figure size 900x900 with 30 Axes>"
      ]
     },
     "metadata": {
      "needs_background": "light"
     },
     "output_type": "display_data"
    }
   ],
   "source": [
    "sns.pairplot(df)"
   ]
  },
  {
   "cell_type": "code",
   "execution_count": 8,
   "id": "ad338d5e",
   "metadata": {},
   "outputs": [
    {
     "data": {
      "text/plain": [
       "count    6649.000000\n",
       "mean        4.941946\n",
       "std        11.031295\n",
       "min      -266.000000\n",
       "25%         1.000000\n",
       "50%         4.000000\n",
       "75%         7.000000\n",
       "max       123.000000\n",
       "Name: # Days for Trip, dtype: float64"
      ]
     },
     "execution_count": 8,
     "metadata": {},
     "output_type": "execute_result"
    }
   ],
   "source": [
    "df['# Days for Trip'].describe()"
   ]
  },
  {
   "cell_type": "code",
   "execution_count": 9,
   "id": "eeee0fb6",
   "metadata": {},
   "outputs": [
    {
     "data": {
      "text/plain": [
       "count    6649.000000\n",
       "mean      530.591051\n",
       "std       706.445145\n",
       "min         3.000000\n",
       "25%        44.700000\n",
       "50%       180.000000\n",
       "75%       600.000000\n",
       "max      2954.700000\n",
       "Name: TRANSPORTATION_DISTANCE_IN_KM, dtype: float64"
      ]
     },
     "execution_count": 9,
     "metadata": {},
     "output_type": "execute_result"
    }
   ],
   "source": [
    "df['TRANSPORTATION_DISTANCE_IN_KM'].describe()"
   ]
  },
  {
   "cell_type": "code",
   "execution_count": 10,
   "id": "69645746",
   "metadata": {},
   "outputs": [
    {
     "data": {
      "text/plain": [
       "count    6649.000000\n",
       "mean      166.491202\n",
       "std        72.837083\n",
       "min       105.000000\n",
       "25%       105.000000\n",
       "50%       105.000000\n",
       "75%       250.000000\n",
       "max       275.000000\n",
       "Name: Minimum_kms_to_be_covered_in_a_day, dtype: float64"
      ]
     },
     "execution_count": 10,
     "metadata": {},
     "output_type": "execute_result"
    }
   ],
   "source": [
    "df[\"Minimum_kms_to_be_covered_in_a_day\"].describe()"
   ]
  },
  {
   "cell_type": "markdown",
   "id": "157f2e6a",
   "metadata": {},
   "source": [
    "### On Time Pie Chart"
   ]
  },
  {
   "cell_type": "code",
   "execution_count": 11,
   "id": "2832a802",
   "metadata": {},
   "outputs": [
    {
     "data": {
      "text/plain": [
       "2454"
      ]
     },
     "execution_count": 11,
     "metadata": {},
     "output_type": "execute_result"
    }
   ],
   "source": [
    "on_time_count = sum(df['ontime'] == 1 )\n",
    "on_time_count"
   ]
  },
  {
   "cell_type": "code",
   "execution_count": 12,
   "id": "8fd2b2dc",
   "metadata": {},
   "outputs": [
    {
     "data": {
      "text/plain": [
       "36.91"
      ]
     },
     "execution_count": 12,
     "metadata": {},
     "output_type": "execute_result"
    }
   ],
   "source": [
    "on_time_pct = round(on_time_count/ len(df) * 100, 2)\n",
    "on_time_pct"
   ]
  },
  {
   "cell_type": "code",
   "execution_count": 13,
   "id": "9eb2ad5b",
   "metadata": {},
   "outputs": [
    {
     "data": {
      "text/plain": [
       "4195"
      ]
     },
     "execution_count": 13,
     "metadata": {},
     "output_type": "execute_result"
    }
   ],
   "source": [
    "not_ontime_count = sum(df['ontime'] == 0)\n",
    "not_ontime_count"
   ]
  },
  {
   "cell_type": "code",
   "execution_count": 14,
   "id": "68f05100",
   "metadata": {},
   "outputs": [
    {
     "data": {
      "text/plain": [
       "63.09"
      ]
     },
     "execution_count": 14,
     "metadata": {},
     "output_type": "execute_result"
    }
   ],
   "source": [
    "not_on_time_pct = round(not_ontime_count/ len(df) * 100, 2)\n",
    "not_on_time_pct"
   ]
  },
  {
   "cell_type": "code",
   "execution_count": 15,
   "id": "1af05585",
   "metadata": {},
   "outputs": [],
   "source": [
    "x_pie = [on_time_count, not_ontime_count]\n",
    "labels = ['On Time {}%'.format(on_time_pct), 'Not On Time {}%'.format(not_on_time_pct)]"
   ]
  },
  {
   "cell_type": "code",
   "execution_count": 16,
   "id": "ed4ef7f7",
   "metadata": {
    "scrolled": true
   },
   "outputs": [
    {
     "data": {
      "image/png": "[encoded data removed]",
      "text/plain": [
       "<Figure size 432x288 with 1 Axes>"
      ]
     },
     "metadata": {},
     "output_type": "display_data"
    }
   ],
   "source": [
    "plt.pie(x_pie, labels=labels , normalize=True);"
   ]
  },
  {
   "cell_type": "markdown",
   "id": "65e4725d",
   "metadata": {},
   "source": [
    "### Delay Pie Chart"
   ]
  },
  {
   "cell_type": "code",
   "execution_count": 17,
   "id": "d2775389",
   "metadata": {},
   "outputs": [
    {
     "data": {
      "text/plain": [
       "4195"
      ]
     },
     "execution_count": 17,
     "metadata": {},
     "output_type": "execute_result"
    }
   ],
   "source": [
    "delay_count = sum(df['delay'] == 1 )\n",
    "delay_count"
   ]
  },
  {
   "cell_type": "code",
   "execution_count": 18,
   "id": "3f9d0e7c",
   "metadata": {},
   "outputs": [
    {
     "data": {
      "text/plain": [
       "36.91"
      ]
     },
     "execution_count": 18,
     "metadata": {},
     "output_type": "execute_result"
    }
   ],
   "source": [
    "delay_pct = round(on_time_count/ len(df) * 100, 2)\n",
    "delay_pct"
   ]
  },
  {
   "cell_type": "code",
   "execution_count": 19,
   "id": "edc73a21",
   "metadata": {},
   "outputs": [
    {
     "data": {
      "text/plain": [
       "2454"
      ]
     },
     "execution_count": 19,
     "metadata": {},
     "output_type": "execute_result"
    }
   ],
   "source": [
    "not_delay_count = sum(df['delay'] == 0)\n",
    "not_delay_count"
   ]
  },
  {
   "cell_type": "code",
   "execution_count": 20,
   "id": "b6324533",
   "metadata": {},
   "outputs": [
    {
     "data": {
      "text/plain": [
       "63.09"
      ]
     },
     "execution_count": 20,
     "metadata": {},
     "output_type": "execute_result"
    }
   ],
   "source": [
    "not_delay_pct = round(not_ontime_count/ len(df) * 100, 2)\n",
    "not_delay_pct"
   ]
  },
  {
   "cell_type": "code",
   "execution_count": 21,
   "id": "c5dbaf2b",
   "metadata": {},
   "outputs": [],
   "source": [
    "x_pie = [delay_count, not_delay_count]\n",
    "labels = ['Delay {}%'.format(delay_pct), 'Not Delay {}%'.format(not_delay_pct)]"
   ]
  },
  {
   "cell_type": "code",
   "execution_count": 22,
   "id": "502c875a",
   "metadata": {
    "scrolled": true
   },
   "outputs": [
    {
     "data": {
      "image/png": "[encoded data removed]",
      "text/plain": [
       "<Figure size 432x288 with 1 Axes>"
      ]
     },
     "metadata": {},
     "output_type": "display_data"
    }
   ],
   "source": [
    "plt.pie(x_pie, labels=labels , normalize=True);"
   ]
  },
  {
   "cell_type": "markdown",
   "id": "84f5d252",
   "metadata": {},
   "source": [
    "Great, both On Time and Delay are inverse, my earlier changes with these columns worked. "
   ]
  },
  {
   "cell_type": "markdown",
   "id": "c3264d2d",
   "metadata": {},
   "source": [
    "### Market Regular Pie Chart"
   ]
  },
  {
   "cell_type": "code",
   "execution_count": 23,
   "id": "dbcfc4e6",
   "metadata": {
    "scrolled": true
   },
   "outputs": [],
   "source": [
    "df.rename(mapper={'Market/Regular ': 'Market/Regular'} , axis=1, inplace=True)"
   ]
  },
  {
   "cell_type": "code",
   "execution_count": 24,
   "id": "9b010897",
   "metadata": {},
   "outputs": [
    {
     "data": {
      "text/plain": [
       "array(['Regular', 'Market'], dtype=object)"
      ]
     },
     "execution_count": 24,
     "metadata": {},
     "output_type": "execute_result"
    }
   ],
   "source": [
    "df['Market/Regular'].unique()"
   ]
  },
  {
   "cell_type": "code",
   "execution_count": 25,
   "id": "ef57f15b",
   "metadata": {},
   "outputs": [
    {
     "data": {
      "text/plain": [
       "58"
      ]
     },
     "execution_count": 25,
     "metadata": {},
     "output_type": "execute_result"
    }
   ],
   "source": [
    "market_count = sum(df['Market/Regular'] == \"Market\" )\n",
    "market_count"
   ]
  },
  {
   "cell_type": "code",
   "execution_count": 26,
   "id": "26cda97b",
   "metadata": {},
   "outputs": [
    {
     "data": {
      "text/plain": [
       "0.87"
      ]
     },
     "execution_count": 26,
     "metadata": {},
     "output_type": "execute_result"
    }
   ],
   "source": [
    "market_pct = round(market_count/ len(df) * 100, 2)\n",
    "market_pct"
   ]
  },
  {
   "cell_type": "code",
   "execution_count": 27,
   "id": "859b8abf",
   "metadata": {},
   "outputs": [
    {
     "data": {
      "text/plain": [
       "6591"
      ]
     },
     "execution_count": 27,
     "metadata": {},
     "output_type": "execute_result"
    }
   ],
   "source": [
    "regular_count = sum(df['Market/Regular'] == 'Regular')\n",
    "regular_count"
   ]
  },
  {
   "cell_type": "code",
   "execution_count": 28,
   "id": "9781174a",
   "metadata": {},
   "outputs": [
    {
     "data": {
      "text/plain": [
       "99.13"
      ]
     },
     "execution_count": 28,
     "metadata": {},
     "output_type": "execute_result"
    }
   ],
   "source": [
    "regular_pct = round(regular_count/ len(df) * 100, 2)\n",
    "regular_pct"
   ]
  },
  {
   "cell_type": "code",
   "execution_count": 29,
   "id": "6d62eab1",
   "metadata": {},
   "outputs": [],
   "source": [
    "x_pie = [market_pct, regular_pct]\n",
    "labels = ['Market {}%'.format(market_pct), 'Regular {}%'.format(regular_pct)]"
   ]
  },
  {
   "cell_type": "code",
   "execution_count": 30,
   "id": "b0b0df14",
   "metadata": {
    "scrolled": true
   },
   "outputs": [
    {
     "data": {
      "image/png": "[encoded data removed]",
      "text/plain": [
       "<Figure size 432x288 with 1 Axes>"
      ]
     },
     "metadata": {},
     "output_type": "display_data"
    }
   ],
   "source": [
    "plt.pie(x_pie, labels=labels , normalize=True);"
   ]
  },
  {
   "cell_type": "code",
   "execution_count": null,
   "id": "a19e3f19",
   "metadata": {},
   "outputs": [],
   "source": []
  },
  {
   "cell_type": "code",
   "execution_count": null,
   "id": "47f897ba",
   "metadata": {},
   "outputs": [],
   "source": []
  },
  {
   "cell_type": "markdown",
   "id": "ecf26f4b",
   "metadata": {},
   "source": [
    "### Number of Days to Deliver"
   ]
  },
  {
   "cell_type": "code",
   "execution_count": 31,
   "id": "8995947a",
   "metadata": {},
   "outputs": [],
   "source": [
    "no_days_to_deliver_bin = pd.DataFrame()"
   ]
  },
  {
   "cell_type": "code",
   "execution_count": 32,
   "id": "ae738512",
   "metadata": {},
   "outputs": [],
   "source": [
    "bin_labels=['-266.389, -227.1',   \n",
    "            '-227.1, -188.2', \n",
    "            '-188.2, -149.3',\n",
    "            '-149.3, -110.4',    \n",
    "            '-110.4, -71.5',     \n",
    "            '-71.5, -32.6',                        \n",
    "            '-32.6, 6.3',        \n",
    "            '6.3, 45.2',      \n",
    "            '45.2, 84.1',\n",
    "            '84.1, 123.0'\n",
    "]"
   ]
  },
  {
   "cell_type": "code",
   "execution_count": 33,
   "id": "e723210a",
   "metadata": {},
   "outputs": [],
   "source": [
    "no_days_to_deliver_bin['Bin'] = pd.cut(df['# Days for Trip'], 10, labels=bin_labels)"
   ]
  },
  {
   "cell_type": "code",
   "execution_count": 35,
   "id": "961cf0f4",
   "metadata": {},
   "outputs": [
    {
     "data": {
      "text/html": [
       "<div>\n",
       "<style scoped>\n",
       "    .dataframe tbody tr th:only-of-type {\n",
       "        vertical-align: middle;\n",
       "    }\n",
       "\n",
       "    .dataframe tbody tr th {\n",
       "        vertical-align: top;\n",
       "    }\n",
       "\n",
       "    .dataframe thead th {\n",
       "        text-align: right;\n",
       "    }\n",
       "</style>\n",
       "<table border=\"1\" class=\"dataframe\">\n",
       "  <thead>\n",
       "    <tr style=\"text-align: right;\">\n",
       "      <th></th>\n",
       "      <th>BookingID</th>\n",
       "      <th>Market/Regular</th>\n",
       "      <th>BookingID_Date</th>\n",
       "      <th>Origin_Location</th>\n",
       "      <th>Destination_Location</th>\n",
       "      <th>Org_lat_lon</th>\n",
       "      <th>Des_lat_lon</th>\n",
       "      <th>Planned_ETA</th>\n",
       "      <th>actual_eta</th>\n",
       "      <th>ontime</th>\n",
       "      <th>...</th>\n",
       "      <th>DestinationLocation_Code</th>\n",
       "      <th>trip_start_date</th>\n",
       "      <th>trip_end_date</th>\n",
       "      <th>TRANSPORTATION_DISTANCE_IN_KM</th>\n",
       "      <th>vehicleType</th>\n",
       "      <th>Minimum_kms_to_be_covered_in_a_day</th>\n",
       "      <th>supplierID</th>\n",
       "      <th>supplierNameCode</th>\n",
       "      <th>Material Shipped</th>\n",
       "      <th># Days for Trip</th>\n",
       "    </tr>\n",
       "    <tr>\n",
       "      <th>Bin</th>\n",
       "      <th></th>\n",
       "      <th></th>\n",
       "      <th></th>\n",
       "      <th></th>\n",
       "      <th></th>\n",
       "      <th></th>\n",
       "      <th></th>\n",
       "      <th></th>\n",
       "      <th></th>\n",
       "      <th></th>\n",
       "      <th></th>\n",
       "      <th></th>\n",
       "      <th></th>\n",
       "      <th></th>\n",
       "      <th></th>\n",
       "      <th></th>\n",
       "      <th></th>\n",
       "      <th></th>\n",
       "      <th></th>\n",
       "      <th></th>\n",
       "      <th></th>\n",
       "    </tr>\n",
       "  </thead>\n",
       "  <tbody>\n",
       "    <tr>\n",
       "      <th>-266.389, -227.1</th>\n",
       "      <td>2</td>\n",
       "      <td>2</td>\n",
       "      <td>2</td>\n",
       "      <td>2</td>\n",
       "      <td>2</td>\n",
       "      <td>2</td>\n",
       "      <td>2</td>\n",
       "      <td>2</td>\n",
       "      <td>2</td>\n",
       "      <td>2</td>\n",
       "      <td>...</td>\n",
       "      <td>2</td>\n",
       "      <td>2</td>\n",
       "      <td>2</td>\n",
       "      <td>2</td>\n",
       "      <td>2</td>\n",
       "      <td>2</td>\n",
       "      <td>2</td>\n",
       "      <td>2</td>\n",
       "      <td>2</td>\n",
       "      <td>2</td>\n",
       "    </tr>\n",
       "    <tr>\n",
       "      <th>-227.1, -188.2</th>\n",
       "      <td>3</td>\n",
       "      <td>3</td>\n",
       "      <td>3</td>\n",
       "      <td>3</td>\n",
       "      <td>3</td>\n",
       "      <td>3</td>\n",
       "      <td>3</td>\n",
       "      <td>3</td>\n",
       "      <td>3</td>\n",
       "      <td>3</td>\n",
       "      <td>...</td>\n",
       "      <td>3</td>\n",
       "      <td>3</td>\n",
       "      <td>3</td>\n",
       "      <td>3</td>\n",
       "      <td>3</td>\n",
       "      <td>3</td>\n",
       "      <td>3</td>\n",
       "      <td>3</td>\n",
       "      <td>3</td>\n",
       "      <td>3</td>\n",
       "    </tr>\n",
       "    <tr>\n",
       "      <th>-188.2, -149.3</th>\n",
       "      <td>1</td>\n",
       "      <td>1</td>\n",
       "      <td>1</td>\n",
       "      <td>1</td>\n",
       "      <td>1</td>\n",
       "      <td>1</td>\n",
       "      <td>1</td>\n",
       "      <td>1</td>\n",
       "      <td>1</td>\n",
       "      <td>1</td>\n",
       "      <td>...</td>\n",
       "      <td>1</td>\n",
       "      <td>1</td>\n",
       "      <td>1</td>\n",
       "      <td>1</td>\n",
       "      <td>1</td>\n",
       "      <td>1</td>\n",
       "      <td>1</td>\n",
       "      <td>1</td>\n",
       "      <td>1</td>\n",
       "      <td>1</td>\n",
       "    </tr>\n",
       "    <tr>\n",
       "      <th>-149.3, -110.4</th>\n",
       "      <td>10</td>\n",
       "      <td>10</td>\n",
       "      <td>10</td>\n",
       "      <td>10</td>\n",
       "      <td>10</td>\n",
       "      <td>10</td>\n",
       "      <td>10</td>\n",
       "      <td>10</td>\n",
       "      <td>10</td>\n",
       "      <td>10</td>\n",
       "      <td>...</td>\n",
       "      <td>10</td>\n",
       "      <td>10</td>\n",
       "      <td>10</td>\n",
       "      <td>10</td>\n",
       "      <td>10</td>\n",
       "      <td>10</td>\n",
       "      <td>10</td>\n",
       "      <td>10</td>\n",
       "      <td>10</td>\n",
       "      <td>10</td>\n",
       "    </tr>\n",
       "    <tr>\n",
       "      <th>-110.4, -71.5</th>\n",
       "      <td>3</td>\n",
       "      <td>3</td>\n",
       "      <td>3</td>\n",
       "      <td>3</td>\n",
       "      <td>3</td>\n",
       "      <td>3</td>\n",
       "      <td>3</td>\n",
       "      <td>3</td>\n",
       "      <td>3</td>\n",
       "      <td>3</td>\n",
       "      <td>...</td>\n",
       "      <td>3</td>\n",
       "      <td>3</td>\n",
       "      <td>3</td>\n",
       "      <td>3</td>\n",
       "      <td>3</td>\n",
       "      <td>3</td>\n",
       "      <td>3</td>\n",
       "      <td>3</td>\n",
       "      <td>3</td>\n",
       "      <td>3</td>\n",
       "    </tr>\n",
       "    <tr>\n",
       "      <th>-71.5, -32.6</th>\n",
       "      <td>0</td>\n",
       "      <td>0</td>\n",
       "      <td>0</td>\n",
       "      <td>0</td>\n",
       "      <td>0</td>\n",
       "      <td>0</td>\n",
       "      <td>0</td>\n",
       "      <td>0</td>\n",
       "      <td>0</td>\n",
       "      <td>0</td>\n",
       "      <td>...</td>\n",
       "      <td>0</td>\n",
       "      <td>0</td>\n",
       "      <td>0</td>\n",
       "      <td>0</td>\n",
       "      <td>0</td>\n",
       "      <td>0</td>\n",
       "      <td>0</td>\n",
       "      <td>0</td>\n",
       "      <td>0</td>\n",
       "      <td>0</td>\n",
       "    </tr>\n",
       "    <tr>\n",
       "      <th>-32.6, 6.3</th>\n",
       "      <td>4876</td>\n",
       "      <td>4876</td>\n",
       "      <td>4876</td>\n",
       "      <td>4876</td>\n",
       "      <td>4876</td>\n",
       "      <td>4876</td>\n",
       "      <td>4876</td>\n",
       "      <td>4876</td>\n",
       "      <td>4876</td>\n",
       "      <td>4876</td>\n",
       "      <td>...</td>\n",
       "      <td>4872</td>\n",
       "      <td>4876</td>\n",
       "      <td>4876</td>\n",
       "      <td>4876</td>\n",
       "      <td>4112</td>\n",
       "      <td>4876</td>\n",
       "      <td>4876</td>\n",
       "      <td>4876</td>\n",
       "      <td>4876</td>\n",
       "      <td>4876</td>\n",
       "    </tr>\n",
       "    <tr>\n",
       "      <th>6.3, 45.2</th>\n",
       "      <td>1719</td>\n",
       "      <td>1719</td>\n",
       "      <td>1719</td>\n",
       "      <td>1719</td>\n",
       "      <td>1719</td>\n",
       "      <td>1719</td>\n",
       "      <td>1719</td>\n",
       "      <td>1719</td>\n",
       "      <td>1719</td>\n",
       "      <td>1719</td>\n",
       "      <td>...</td>\n",
       "      <td>1699</td>\n",
       "      <td>1719</td>\n",
       "      <td>1719</td>\n",
       "      <td>1719</td>\n",
       "      <td>1719</td>\n",
       "      <td>1719</td>\n",
       "      <td>1719</td>\n",
       "      <td>1719</td>\n",
       "      <td>1719</td>\n",
       "      <td>1719</td>\n",
       "    </tr>\n",
       "    <tr>\n",
       "      <th>45.2, 84.1</th>\n",
       "      <td>32</td>\n",
       "      <td>32</td>\n",
       "      <td>32</td>\n",
       "      <td>32</td>\n",
       "      <td>32</td>\n",
       "      <td>32</td>\n",
       "      <td>32</td>\n",
       "      <td>32</td>\n",
       "      <td>32</td>\n",
       "      <td>32</td>\n",
       "      <td>...</td>\n",
       "      <td>32</td>\n",
       "      <td>32</td>\n",
       "      <td>32</td>\n",
       "      <td>32</td>\n",
       "      <td>32</td>\n",
       "      <td>32</td>\n",
       "      <td>32</td>\n",
       "      <td>32</td>\n",
       "      <td>32</td>\n",
       "      <td>32</td>\n",
       "    </tr>\n",
       "    <tr>\n",
       "      <th>84.1, 123.0</th>\n",
       "      <td>3</td>\n",
       "      <td>3</td>\n",
       "      <td>3</td>\n",
       "      <td>3</td>\n",
       "      <td>3</td>\n",
       "      <td>3</td>\n",
       "      <td>3</td>\n",
       "      <td>3</td>\n",
       "      <td>3</td>\n",
       "      <td>3</td>\n",
       "      <td>...</td>\n",
       "      <td>3</td>\n",
       "      <td>3</td>\n",
       "      <td>3</td>\n",
       "      <td>3</td>\n",
       "      <td>3</td>\n",
       "      <td>3</td>\n",
       "      <td>3</td>\n",
       "      <td>3</td>\n",
       "      <td>3</td>\n",
       "      <td>3</td>\n",
       "    </tr>\n",
       "  </tbody>\n",
       "</table>\n",
       "<p>10 rows × 22 columns</p>\n",
       "</div>"
      ],
      "text/plain": [
       "                  BookingID  Market/Regular  BookingID_Date  Origin_Location  \\\n",
       "Bin                                                                            \n",
       "-266.389, -227.1          2               2               2                2   \n",
       "-227.1, -188.2            3               3               3                3   \n",
       "-188.2, -149.3            1               1               1                1   \n",
       "-149.3, -110.4           10              10              10               10   \n",
       "-110.4, -71.5             3               3               3                3   \n",
       "-71.5, -32.6              0               0               0                0   \n",
       "-32.6, 6.3             4876            4876            4876             4876   \n",
       "6.3, 45.2              1719            1719            1719             1719   \n",
       "45.2, 84.1               32              32              32               32   \n",
       "84.1, 123.0               3               3               3                3   \n",
       "\n",
       "                  Destination_Location  Org_lat_lon  Des_lat_lon  Planned_ETA  \\\n",
       "Bin                                                                             \n",
       "-266.389, -227.1                     2            2            2            2   \n",
       "-227.1, -188.2                       3            3            3            3   \n",
       "-188.2, -149.3                       1            1            1            1   \n",
       "-149.3, -110.4                      10           10           10           10   \n",
       "-110.4, -71.5                        3            3            3            3   \n",
       "-71.5, -32.6                         0            0            0            0   \n",
       "-32.6, 6.3                        4876         4876         4876         4876   \n",
       "6.3, 45.2                         1719         1719         1719         1719   \n",
       "45.2, 84.1                          32           32           32           32   \n",
       "84.1, 123.0                          3            3            3            3   \n",
       "\n",
       "                  actual_eta  ontime  ...  DestinationLocation_Code  \\\n",
       "Bin                                   ...                             \n",
       "-266.389, -227.1           2       2  ...                         2   \n",
       "-227.1, -188.2             3       3  ...                         3   \n",
       "-188.2, -149.3             1       1  ...                         1   \n",
       "-149.3, -110.4            10      10  ...                        10   \n",
       "-110.4, -71.5              3       3  ...                         3   \n",
       "-71.5, -32.6               0       0  ...                         0   \n",
       "-32.6, 6.3              4876    4876  ...                      4872   \n",
       "6.3, 45.2               1719    1719  ...                      1699   \n",
       "45.2, 84.1                32      32  ...                        32   \n",
       "84.1, 123.0                3       3  ...                         3   \n",
       "\n",
       "                  trip_start_date  trip_end_date  \\\n",
       "Bin                                                \n",
       "-266.389, -227.1                2              2   \n",
       "-227.1, -188.2                  3              3   \n",
       "-188.2, -149.3                  1              1   \n",
       "-149.3, -110.4                 10             10   \n",
       "-110.4, -71.5                   3              3   \n",
       "-71.5, -32.6                    0              0   \n",
       "-32.6, 6.3                   4876           4876   \n",
       "6.3, 45.2                    1719           1719   \n",
       "45.2, 84.1                     32             32   \n",
       "84.1, 123.0                     3              3   \n",
       "\n",
       "                  TRANSPORTATION_DISTANCE_IN_KM  vehicleType  \\\n",
       "Bin                                                            \n",
       "-266.389, -227.1                              2            2   \n",
       "-227.1, -188.2                                3            3   \n",
       "-188.2, -149.3                                1            1   \n",
       "-149.3, -110.4                               10           10   \n",
       "-110.4, -71.5                                 3            3   \n",
       "-71.5, -32.6                                  0            0   \n",
       "-32.6, 6.3                                 4876         4112   \n",
       "6.3, 45.2                                  1719         1719   \n",
       "45.2, 84.1                                   32           32   \n",
       "84.1, 123.0                                   3            3   \n",
       "\n",
       "                  Minimum_kms_to_be_covered_in_a_day  supplierID  \\\n",
       "Bin                                                                \n",
       "-266.389, -227.1                                   2           2   \n",
       "-227.1, -188.2                                     3           3   \n",
       "-188.2, -149.3                                     1           1   \n",
       "-149.3, -110.4                                    10          10   \n",
       "-110.4, -71.5                                      3           3   \n",
       "-71.5, -32.6                                       0           0   \n",
       "-32.6, 6.3                                      4876        4876   \n",
       "6.3, 45.2                                       1719        1719   \n",
       "45.2, 84.1                                        32          32   \n",
       "84.1, 123.0                                        3           3   \n",
       "\n",
       "                  supplierNameCode  Material Shipped  # Days for Trip  \n",
       "Bin                                                                    \n",
       "-266.389, -227.1                 2                 2                2  \n",
       "-227.1, -188.2                   3                 3                3  \n",
       "-188.2, -149.3                   1                 1                1  \n",
       "-149.3, -110.4                  10                10               10  \n",
       "-110.4, -71.5                    3                 3                3  \n",
       "-71.5, -32.6                     0                 0                0  \n",
       "-32.6, 6.3                    4876              4876             4876  \n",
       "6.3, 45.2                     1719              1719             1719  \n",
       "45.2, 84.1                      32                32               32  \n",
       "84.1, 123.0                      3                 3                3  \n",
       "\n",
       "[10 rows x 22 columns]"
      ]
     },
     "execution_count": 35,
     "metadata": {},
     "output_type": "execute_result"
    }
   ],
   "source": [
    "no_days_to_deliver_bin_groupby = df.groupby(by=no_days_to_deliver_bin['Bin']).count()\n",
    "no_days_to_deliver_bin_groupby"
   ]
  },
  {
   "cell_type": "code",
   "execution_count": 43,
   "id": "0c5ef709",
   "metadata": {},
   "outputs": [
    {
     "data": {
      "text/plain": [
       "['-266.389, -227.1',\n",
       " '-227.1, -188.2',\n",
       " '-188.2, -149.3',\n",
       " '-149.3, -110.4',\n",
       " '-110.4, -71.5',\n",
       " '-71.5, -32.6',\n",
       " '-32.6, 6.3',\n",
       " '6.3, 45.2',\n",
       " '45.2, 84.1',\n",
       " '84.1, 123.0']"
      ]
     },
     "execution_count": 43,
     "metadata": {},
     "output_type": "execute_result"
    }
   ],
   "source": [
    "x = list(no_days_to_deliver_bin_groupby.index)\n",
    "x"
   ]
  },
  {
   "cell_type": "code",
   "execution_count": 44,
   "id": "02f856df",
   "metadata": {},
   "outputs": [
    {
     "data": {
      "text/plain": [
       "[2, 3, 1, 10, 3, 0, 4876, 1719, 32, 3]"
      ]
     },
     "execution_count": 44,
     "metadata": {},
     "output_type": "execute_result"
    }
   ],
   "source": [
    "height = list(no_days_to_deliver_bin_groupby['# Days for Trip'])\n",
    "height"
   ]
  },
  {
   "cell_type": "code",
   "execution_count": 46,
   "id": "4bc7d661",
   "metadata": {},
   "outputs": [
    {
     "data": {
      "text/plain": [
       "''"
      ]
     },
     "execution_count": 46,
     "metadata": {},
     "output_type": "execute_result"
    },
    {
     "data": {
      "image/png": "[encoded data removed]",
      "text/plain": [
       "<Figure size 1800x1800 with 1 Axes>"
      ]
     },
     "metadata": {
      "needs_background": "light"
     },
     "output_type": "display_data"
    }
   ],
   "source": [
    "plt.figure(figsize=(25,25))\n",
    "plt.bar(x=x, height=height)\n",
    ";"
   ]
  },
  {
   "cell_type": "code",
   "execution_count": null,
   "id": "0ac492c4",
   "metadata": {},
   "outputs": [],
   "source": []
  }
 ],
 "metadata": {
  "kernelspec": {
   "display_name": "Python 3",
   "language": "python",
   "name": "python3"
  },
  "language_info": {
   "codemirror_mode": {
    "name": "ipython",
    "version": 3
   },
   "file_extension": ".py",
   "mimetype": "text/x-python",
   "name": "python",
   "nbconvert_exporter": "python",
   "pygments_lexer": "ipython3",
   "version": "3.8.8"
  }
 },
 "nbformat": 4,
 "nbformat_minor": 5
}
